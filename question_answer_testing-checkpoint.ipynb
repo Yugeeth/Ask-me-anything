{
 "cells": [
  {
   "cell_type": "code",
   "execution_count": null,
   "source": [
    "In [74]:\r\n",
    "import numpy as np\r\n",
    "import requests\r\n",
    "import html2text\r\n",
    "from googlesearch import search\r\n",
    "import json\r\n",
    "import re\r\n",
    "from simpletransformers.question_answering import QuestionAnsweringModel\r\n",
    "from IPython.display import display\r\n",
    "from IPython.html import widgets\r\n",
    "from bs4 import BeautifulSoup\r\n",
    "from markdown import markdown"
   ],
   "outputs": [],
   "metadata": {}
  },
  {
   "cell_type": "code",
   "execution_count": null,
   "source": [
    "\r\n",
    "In [64]:\r\n",
    "def query_pages(query, n=5):\r\n",
    "    return list(search(query, num=n, stop=n, pause=2))\r\n",
    "\r\n",
    "def query_to_text(query, n=5):\r\n",
    "    html_conv = html2text.HTML2Text()\r\n",
    "    html_conv.ignore_links = True\r\n",
    "    html_conv.escape_all = True\r\n",
    "    \r\n",
    "    text = []\r\n",
    "    for link in query_pages(query, n):\r\n",
    "        req = requests.get(link)\r\n",
    "        text.append(html_conv.handle(req.text))\r\n",
    "        \r\n",
    "    return text\r\n",
    "    "
   ],
   "outputs": [],
   "metadata": {}
  },
  {
   "cell_type": "code",
   "execution_count": null,
   "source": [
    "In [75]:\r\n",
    "# Source: https://gist.github.com/lorey/eb15a7f3338f959a78cc3661fbc255fe\r\n",
    "def markdown_to_text(markdown_string):\r\n",
    "    \"\"\" Converts a markdown string to plaintext \"\"\"\r\n",
    "\r\n",
    "    # md -> html -> text since BeautifulSoup can extract text cleanly\r\n",
    "    html = markdown(markdown_string)\r\n",
    "\r\n",
    "    # remove code snippets\r\n",
    "    html = re.sub(r'<pre>(.*?)</pre>', ' ', html)\r\n",
    "    html = re.sub(r'<code>(.*?)</code >', ' ', html)\r\n",
    "\r\n",
    "    # extract text\r\n",
    "    soup = BeautifulSoup(html, \"html.parser\")\r\n",
    "    text = ''.join(soup.findAll(text=True))\r\n",
    "\r\n",
    "    return text\r\n",
    "\r\n",
    "def format_text(text):\r\n",
    "    text = markdown_to_text(text)\r\n",
    "    text.replace('\\n', ' ')\r\n",
    "#     text = re.sub(r'^https?:\\/\\/.*[\\r\\n]*', '', text, flags=re.MULTILINE)\r\n",
    "#     text = re.sub(r'^http?:\\/\\/.*[\\r\\n]*', '', text, flags=re.MULTILINE)\r\n",
    "    return text\r\n",
    "    "
   ],
   "outputs": [],
   "metadata": {}
  },
  {
   "cell_type": "code",
   "execution_count": null,
   "source": [
    "In [76]:\r\n",
    "format_text(query_to_text('How many fingers do humans have?', n=1)[0])"
   ],
   "outputs": [],
   "metadata": {}
  },
  {
   "cell_type": "code",
   "execution_count": null,
   "source": [
    "\r\n",
    "Out[76]:\r\n",
    "\"writing\\nHow ToGrammar TipsTrendsInspiration\\nProductCompany\\nstart writing\\n\\n\\n\\n\\n\\nCan You Call Your Thumb a Finger?\\nShundalyn Allen\\nWriting\\n\\nA thumb is a digit, but not technically a finger.\\nMany people don’t make the distinction between thumbs and other digits.\\n\\n\\nHow many fingers do you have? Your answer might depend on whether you consider\\nyour thumb to be a finger. Let’s look into whether or not you can accurately\\ncall your thumb a finger.\\nHere’s a tip: Want to make sure your writing always looks great? Grammarly\\ncan save you from misspellings, grammatical and punctuation mistakes, and\\nother writing issues on all your favorite websites.\\nYour writing, at its best.\\nBe the best writer in the office.\\nGet Grammarly\\nFinger Definition\\nIf you look up finger on OxfordDictionaries.com, you will find this\\ndefinition: “Each of the four slender jointed parts attached to either hand. .\\n.” Doesn’t this definition seem to exclude the thumb? Why exclude it?\\nThumb vs. Finger\\nYour thumb is different from your fingers. Your fingers have two joints and\\nthree bones called phalanges or phalanxes. A thumb only has one joint and two\\nphalanges. Anatomically, a thumb is unique. The position also sets the thumb\\napart. The thumb is out to the side of the hand and lower than the four\\nfingers. So if a thumb is not really a finger, what is it?\\nThumb Definition\\nThumb refers to the first digit of the human hand, set apart and opposable to\\nthe other four digits of the hand. Appendages like your fingers, toes, and\\nthumbs are digits. So humans usually have five digits per hand, one of which\\nis the thumb.\\nThumb and Finger Examples\\nWhat about in practice? Do writers make the distinction between thumbs and\\nfingers? Let’s look at some examples:\\nMeanwhile, the original poster, who wished to be identified as Vicky,\\nexplained to Buzzfeed that her photo was staged as a joke – and she does\\nindeed have five fingers after all.\\nNews.com.au\\n“We had an ultrasound,” said his mom, Sheryl Lilya. “And they were going,\\n‘There’s the five fingers, there’s five fingers here.”\\nCBS Minnesota\\nIt's very close to a human hand in the way it operates, even though it doesn't\\nhave four fingers and a thumb.\\nARS Technica Uk\\nFleck, asked what kind of television rating he expects Tuesday when WMU plays\\nat Kent State, curled his four fingers onto the tip of his thumb to form a\\nzero.\\nM Live\\nWhat has four fingers and a thumb, but no hand?\\nPersephone Magazine\\nAs the examples indicate, some people make the distinction, some don’t, and\\nothers only do to contrast the fingers with the thumb. Whether you make the\\ndistinction will probably depend on your personality and your audience. Are\\nyou wondering about the answer to the riddle from Persephone Magazine? It’s a\\nglove!\\n\\nYour writing, at its best.\\nGet Grammarly for free\\nWorks on all your favorite websites\\n\\nRelated Articles\\nWritingGrammarly’s Writing Encyclopedia: 2019 in Language\\nFrom A to ZWriting5 Most Effective\\nMethods for Avoiding PlagiarismWritingRecent\\nGrad? Here's How to Approach Your Job SearchWritingAn\\nArgument for Exclamation Points (!!!)WritingHow to Ask for HelpWritingThe\\nDos and Don’ts of Business Email Etiquette\\nWriting, grammar, and communication tips for your inbox.\\nsubscribe\\nYou have been successfully subscribed to the Grammarly blog.\\nView Comments\\nproductPlansGrammarly PremiumGrammarly BusinessGrammarly @eduGrammarly Desktop\\nAppsThe Grammarly KeyboardGrammarly for MS OfficecompanyAboutCareers &\\nCultureBlogPressAffiliatesContact UsfeaturesProduct Feature NewsTone\\nDetectorGrammar CheckerPlagiarism CheckersupportHelp CenterPrivacy PolicyTerms\\nof ServiceSecuritycommunityFacebookInstagramTwitterLinkedIn\\n2019 © Grammarly Inc.\""
   ],
   "outputs": [],
   "metadata": {}
  },
  {
   "cell_type": "code",
   "execution_count": null,
   "source": [
    "\r\n",
    "In [3]:"
   ],
   "outputs": [],
   "metadata": {}
  },
  {
   "cell_type": "code",
   "execution_count": null,
   "source": [
    "\r\n",
    "\r\n",
    "In [59]:\r\n",
    "def create_model():\r\n",
    "     return QuestionAnsweringModel('distilbert', 'distilbert-base-uncased-distilled-squad')\r\n",
    "    \r\n",
    "def predict_answer(model, question, contexts, seq_len=512, debug=False):\r\n",
    "    split_context = []\r\n",
    "    \r\n",
    "    if not isinstance(contexts, list):\r\n",
    "        contexts = [contexts]\r\n",
    "    \r\n",
    "    for context in contexts:\r\n",
    "        for i in range(0, len(context), seq_len):\r\n",
    "            split_context.append(context[i:i+seq_len])\r\n",
    "    \r\n",
    "    f_data = []\r\n",
    "    \r\n",
    "    for i, c in enumerate(split_context):\r\n",
    "        f_data.append(\r\n",
    "            {'qas': \r\n",
    "              [{'question': question,\r\n",
    "               'id': i,\r\n",
    "               'answers': [{'text': ' ', 'answer_start': 0}],\r\n",
    "               'is_impossible': False}],\r\n",
    "              'context': c\r\n",
    "            })\r\n",
    "        \r\n",
    "    prediction = model.predict(f_data)\r\n",
    "    if debug:\r\n",
    "        print(prediction)\r\n",
    "    preds = [x['answer'].lower() for x in prediction]\r\n",
    "    return max(set(preds), key = preds.count)"
   ],
   "outputs": [],
   "metadata": {}
  },
  {
   "cell_type": "code",
   "execution_count": null,
   "source": [
    "In [60]:\r\n",
    "def q_to_a(model, question, n=2, debug=False):\r\n",
    "    context = query_to_text(question, n=n)\r\n",
    "    pred = predict_answer(model, question, context, debug=debug)\r\n",
    "    return pred"
   ],
   "outputs": [],
   "metadata": {}
  },
  {
   "cell_type": "code",
   "execution_count": null,
   "source": [
    "In [5]:\r\n",
    "model = create_model()"
   ],
   "outputs": [],
   "metadata": {}
  },
  {
   "cell_type": "code",
   "execution_count": null,
   "source": [
    "\r\n",
    "In [6]:\r\n",
    "predict_answer(model, 'what color is the bird?', 'the bird is red.')\r\n",
    "100%|██████████| 1/1 [00:00<00:00, 436.23it/s]\r\n",
    "Converting to features started.\r\n",
    "HBox(children=(IntProgress(value=0, max=1), HTML(value='')))"
   ],
   "outputs": [],
   "metadata": {}
  },
  {
   "cell_type": "code",
   "execution_count": null,
   "source": [
    "\r\n",
    "Out[6]:\r\n",
    "[{'id': 0, 'answer': 'red'}]\r\n",
    "In [32]:\r\n",
    "question = 'What is the bone on the back of your skull called?'\r\n",
    "context = query_to_text(question, n=3)\r\n",
    "pred = predict_answer(model, question, context)\r\n",
    "print(pred)\r\n",
    " 14%|█▎        | 13/95 [00:00<00:00, 127.41it/s]\r\n",
    "Converting to features started.\r\n",
    "100%|██████████| 95/95 [00:00<00:00, 150.34it/s]\r\n",
    "HBox(children=(IntProgress(value=0, max=12), HTML(value='')))\r\n",
    "occipital bone\r\n"
   ],
   "outputs": [],
   "metadata": {}
  },
  {
   "cell_type": "code",
   "execution_count": null,
   "source": [
    "\r\n",
    "In [35]:\r\n",
    "q_to_a(model, 'What is the bone on the back of your skull called?')\r\n",
    " 33%|███▎      | 15/45 [00:00<00:00, 143.47it/s]\r\n",
    "Converting to features started.\r\n",
    "100%|██████████| 45/45 [00:00<00:00, 131.05it/s]\r\n",
    "HBox(children=(IntProgress(value=0, max=6), HTML(value='')))\r\n",
    "Out[35]:\r\n",
    "'occipital bone'\r\n",
    "In [45]:\r\n",
    "model = create_model()"
   ],
   "outputs": [],
   "metadata": {}
  },
  {
   "cell_type": "code",
   "execution_count": null,
   "source": [
    "\r\n",
    "In [54]:\r\n",
    "text = widgets.Text(description='Question:', width=300)\r\n",
    "display(text)\r\n",
    "\r\n",
    "button = widgets.Button(description='Get an Answer')\r\n",
    "display(button)\r\n",
    "\r\n",
    "def on_button_click(b)\r\n",
    "    answer = q_to_a(model, text.value)\r\n",
    "    print('Answer:', answer)\r\n",
    "    \r\n",
    "button.on_click(on_button_click)\r\n",
    "Text(value='', description='Question:')\r\n",
    "Button(description='Get an Answer', style=ButtonStyle())\r\n",
    "How many fingers do humans have?\r\n",
    " 28%|██▊       | 15/53 [00:00<00:00, 144.69it/s]\r\n",
    "Converting to features started.\r\n",
    "100%|██████████| 53/53 [00:00<00:00, 141.50it/s]\r\n",
    "HBox(children=(IntProgress(value=0, max=7), HTML(value='')))\r\n",
    "Answer: \r\n",
    "In [57]:\r\n",
    "q_to_a(model, 'How many fingers do humans have?')\r\n",
    " 32%|███▏      | 17/53 [00:00<00:00, 167.23it/s]\r\n",
    "Converting to features started.\r\n",
    "100%|██████████| 53/53 [00:00<00:00, 150.85it/s]\r\n",
    "HBox(children=(IntProgress(value=0, max=7), HTML(value='')))"
   ],
   "outputs": [],
   "metadata": {}
  },
  {
   "cell_type": "code",
   "execution_count": null,
   "source": [
    "\r\n",
    "Out[57]:\r\n",
    "''\r\n",
    "In [62]:\r\n",
    "answer = q_to_a(model, 'How many fingers do humans have?', debug=True)\r\n",
    " 32%|███▏      | 17/53 [00:00<00:00, 165.33it/s]\r\n",
    "Converting to features started.\r\n",
    "100%|██████████| 53/53 [00:00<00:00, 149.82it/s]\r\n",
    "HBox(children=(IntProgress(value=0, max=7), HTML(value='')))\r\n",
    "[{'id': 0, 'answer': ''}, {'id': 1, 'answer': 'How many'}, {'id': 2, 'answer': 'four'}, {'id': 3, 'answer': 'four'}, {'id': 4, 'answer': 'five'}, {'id': 5, 'answer': 'five'}, {'id': 6, 'answer': 'thumb'}, {'id': 7, 'answer': ''}, {'id': 8, 'answer': ''}, {'id': 9, 'answer': '356'}, {'id': 10, 'answer': ''}, {'id': 11, 'answer': '443cf72c056c479de112086ea9ccadf9-235x124.jpeg'}, {'id': 12, 'answer': ''}, {'id': 13, 'answer': '2019'}, {'id': 14, 'answer': ''}, {'id': 15, 'answer': 'five'}, {'id': 16, 'answer': 'five'}, {'id': 17, 'answer': 'five'}, {'id': 18, 'answer': 'four'}, {'id': 19, 'answer': ''}, {'id': 20, 'answer': 'two'}, {'id': 21, 'answer': 'Fingers do not contain muscles'}, {'id': 22, 'answer': 'two'}, {'id': 23, 'answer': 'human thumb also has other muscles in the thenar group'}, {'id': 24, 'answer': 'two'}, {'id': 25, 'answer': 'small finger'}, {'id': 26, 'answer': '5'}, {'id': 27, 'answer': '6'}, {'id': 28, 'answer': '8'}, {'id': 29, 'answer': 'fingertips.[8] ### Brain representation Each finger'}, {'id': 30, 'answer': '32'}, {'id': 31, 'answer': '13'}, {'id': 32, 'answer': '500'}, {'id': 33, 'answer': 'seven'}, {'id': 34, 'answer': '17'}, {'id': 35, 'answer': 'five'}, {'id': 36, 'answer': '380 3'}, {'id': 37, 'answer': ''}, {'id': 38, 'answer': ''}, {'id': 39, 'answer': ''}, {'id': 40, 'answer': ''}, {'id': 41, 'answer': '16'}, {'id': 42, 'answer': ''}, {'id': 43, 'answer': ''}, {'id': 44, 'answer': ''}, {'id': 45, 'answer': ''}, {'id': 46, 'answer': ''}, {'id': 47, 'answer': '926793311'}, {'id': 48, 'answer': '2017'}, {'id': 49, 'answer': ''}, {'id': 50, 'answer': ''}, {'id': 51, 'answer': ''}, {'id': 52, 'answer': ''}]"
   ],
   "outputs": [],
   "metadata": {}
  },
  {
   "cell_type": "code",
   "execution_count": null,
   "source": [
    "\r\n",
    "In [61]:\r\n",
    "query_to_text('How many fingers do humans have?', n=2)\r\n",
    "---------------------------------------------------------------------------\r\n",
    "TypeError                                 Traceback (most recent call last)\r\n",
    "<ipython-input-61-2c5d8914128b> in <module>\r\n",
    "----> 1 query_to_text('How many fingers do humans have?', n=2, debug=True)\r\n",
    "\r\n",
    "TypeError: query_to_text() got an unexpected keyword argument 'debug'"
   ],
   "outputs": [],
   "metadata": {}
  }
 ],
 "metadata": {
  "orig_nbformat": 4,
  "language_info": {
   "name": "python"
  }
 },
 "nbformat": 4,
 "nbformat_minor": 2
}